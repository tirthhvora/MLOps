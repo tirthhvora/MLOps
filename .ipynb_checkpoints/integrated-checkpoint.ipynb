{
 "cells": [
  {
   "cell_type": "code",
   "execution_count": 27,
   "id": "ea8bb59e",
   "metadata": {},
   "outputs": [],
   "source": [
    "import mlflow\n",
    "import kfp\n",
    "import kfp.components as comp\n",
    "import requests\n",
    "import kfp.dsl as dsl\n",
    "import sys"
   ]
  },
  {
   "cell_type": "code",
   "execution_count": 28,
   "id": "c9658665",
   "metadata": {},
   "outputs": [
    {
     "data": {
      "text/plain": [
       "'C:\\\\Users\\\\hp India\\\\anaconda3\\\\envs\\\\mlops\\\\python.exe'"
      ]
     },
     "execution_count": 28,
     "metadata": {},
     "output_type": "execute_result"
    }
   ],
   "source": [
    "sys.executable"
   ]
  },
  {
   "cell_type": "code",
   "execution_count": 9,
   "id": "15f840ed",
   "metadata": {},
   "outputs": [],
   "source": [
    "\n"
   ]
  },
  {
   "cell_type": "markdown",
   "id": "e2eae841",
   "metadata": {},
   "source": [
    "## Functions and components"
   ]
  },
  {
   "cell_type": "code",
   "execution_count": 29,
   "id": "02f3df08",
   "metadata": {},
   "outputs": [],
   "source": [
    "def load_and_clean_data():\n",
    "    \n",
    "    import pandas as pd\n",
    "    import numpy as np\n",
    "    \n",
    "    data = pd.read_csv(\"https://raw.githubusercontent.com/TripathiAshutosh/dataset/main/banking.csv\")\n",
    "    \n",
    "    print(\"Null/missingalues available in the data: \\n\")\n",
    "    print(data.isna().sum())\n",
    "    data = data.dropna()\n",
    "    print(\"The data after dropping the na values are: \\n\")\n",
    "    print(data.isna().sum())\n",
    "    \n",
    "    data.to_csv(f'data/initial_data.csv', index = False)\n",
    "    print(\"--------data imported and cleaned----------\")"
   ]
  },
  {
   "cell_type": "code",
   "execution_count": 30,
   "id": "ade71b5f",
   "metadata": {},
   "outputs": [],
   "source": [
    "create_step_load_and_clean_data = kfp.components.create_component_from_func(\n",
    "    func=load_and_clean_data,\n",
    "    base_image='python:3.7',\n",
    "    packages_to_install=['pandas==1.2.4','numpy==1.21.0']\n",
    ")"
   ]
  },
  {
   "cell_type": "code",
   "execution_count": 31,
   "id": "dd8a8942",
   "metadata": {},
   "outputs": [],
   "source": [
    "def preprocessing():\n",
    "    \n",
    "    import pandas as pd\n",
    "    import numpy as np\n",
    "    \n",
    "    data = pd.read_csv(f'data/initial_data.csv')\n",
    "    \n",
    "    data['education'] = np.where(data['education'] == 'basic.9y', 'Basic', data['education'])\n",
    "    data['education'] = np.where(data['education'] == 'basic.6y', 'Basic', data['education'])\n",
    "    data['education'] = np.where(data['education'] == 'basic.4y', 'Basic', data['education'])\n",
    "    \n",
    "    categorical_vars = ['job','marital','education', 'default', 'housing', 'loan', 'contact', 'month', 'day_of_week', 'poutcome']\n",
    "    for var in categorical_vars:\n",
    "        cat_list = 'var' + '_' + var\n",
    "        cat_list = pd.get_dummies(data[var], prefix = var) # one hot encoding\n",
    "        data_new = data.join(cat_list)\n",
    "        data = data_new\n",
    "    \n",
    "    categorical_vars = ['job','marital','education', 'default', 'housing', 'loan', 'contact', 'month', 'day_of_week', 'poutcome']\n",
    "    \n",
    "    data_vars = data.columns.values.tolist()\n",
    "    \n",
    "    keeping = [i for i in data_vars if i not in categorical_vars]\n",
    "    \n",
    "    final_df = data[keeping]\n",
    "    \n",
    "    final_df.columns = final_df.columns.str.replace(\".\", \"_\")\n",
    "    final_df.columns = final_df.columns.str.replace(\" \", \"_\")\n",
    "    \n",
    "    print(final_df.head())\n",
    "    \n",
    "    final_df.to_csv(f'data/preprocessed_df.csv', index = False)\n",
    "    print(\"Education column pre-processed, categorical variables one-hot encoded. Ready to input data to model\")\n",
    "    \n"
   ]
  },
  {
   "cell_type": "code",
   "execution_count": 32,
   "id": "64088762",
   "metadata": {},
   "outputs": [],
   "source": [
    "create_step_prprocessing = kfp.components.create_component_from_func(\n",
    "    func=preprocessing,\n",
    "    base_image='python:3.7',\n",
    "    packages_to_install=['pandas','numpy']\n",
    ")"
   ]
  },
  {
   "cell_type": "code",
   "execution_count": 33,
   "id": "457923c2",
   "metadata": {},
   "outputs": [],
   "source": [
    "def train_test_split():\n",
    "    import pandas as pd\n",
    "    import numpy as np\n",
    "    from sklearn.model_selection import train_test_split\n",
    "    \n",
    "    final_df = pd.read_csv(f'data/preprocessed_df.csv')\n",
    "    \n",
    "    X = final_df.loc[:, final_df.columns != 'y']\n",
    "    y = final_df.loc[:, final_df.columns == 'y']\n",
    "    \n",
    "    X_train, X_test, y_train, y_test = train_test_split(X, y, test_size = 0.3, stratify = y, random_state = 47)\n",
    "    \n",
    "    np.save(f'data/X_train.npy', X_train) # saved as a numpy binary file (efficient to save and load)\n",
    "    np.save(f'data/X_test.npy', X_test)\n",
    "    np.save(f'data/y_train.npy', y_train)\n",
    "    np.save(f'data/y_test.npy', y_test)\n",
    "    \n",
    "    print(\"\\n---- X_train ----\")\n",
    "    print(\"\\n\")\n",
    "    print(X_train.head())\n",
    "    \n",
    "    print(\"\\n---- X_test ----\")\n",
    "    print(\"\\n\")\n",
    "    print(X_test.head())\n",
    "    \n",
    "    print(\"\\n---- y_test ----\")\n",
    "    print(\"\\n\")\n",
    "    print(y_test.head())"
   ]
  },
  {
   "cell_type": "code",
   "execution_count": 34,
   "id": "6d4b0e3a",
   "metadata": {},
   "outputs": [],
   "source": [
    "create_step_train_test_split = kfp.components.create_component_from_func(\n",
    "    func=train_test_split,\n",
    "    base_image='python:3.7',\n",
    "    packages_to_install=['pandas','numpy','scikit-learn']\n",
    ")"
   ]
  },
  {
   "cell_type": "code",
   "execution_count": 35,
   "id": "c0092c27",
   "metadata": {},
   "outputs": [],
   "source": [
    "def training_basic_classifier():\n",
    "    import mlflow\n",
    "    from sklearn.ensemble import RandomForestClassifier\n",
    "    import pandas as pd\n",
    "    import numpy as np\n",
    "    import pickle\n",
    "    \n",
    "    X_train = np.load(f'data/X_train.npy', allow_pickle=True)\n",
    "    y_train = np.load(f'data/y_train.npy', allow_pickle=True)\n",
    "    \n",
    "    model = RandomForestClassifier(n_estimators=150)\n",
    "    model.fit(X_train, y_train)\n",
    "    #mlflow.set_tracking_uri(\"http://localhost:5000\")\n",
    "\n",
    "  \n",
    "    with open(f'data/model.pkl', 'wb') as f:\n",
    "            pickle.dump(model, f)\n",
    "        \n",
    "    print(\"\\nRandomForest classifier is trained on banking data and saved to PV location /data/model.pkl ----\")\n"
   ]
  },
  {
   "cell_type": "code",
   "execution_count": 36,
   "id": "23891571",
   "metadata": {},
   "outputs": [],
   "source": [
    "create_step_training_basic_classifier = kfp.components.create_component_from_func(\n",
    "    func=training_basic_classifier,\n",
    "    base_image='python:3.7',\n",
    "    packages_to_install=['pandas','numpy','scikit-learn','mlflow']\n",
    ")"
   ]
  },
  {
   "cell_type": "code",
   "execution_count": 37,
   "id": "4629a5b3",
   "metadata": {},
   "outputs": [],
   "source": [
    "def predict_on_test_data():\n",
    "    import pandas as pd\n",
    "    import numpy as np\n",
    "    import sklearn\n",
    "    import pickle\n",
    "    print(\"---- Inside predict_on_test_data component ----\")\n",
    "    with open('data/model.pkl', 'rb') as f:\n",
    "        model = pickle.load(f)\n",
    "\n",
    "    X_test = np.load('data/X_test.npy', allow_pickle=True)\n",
    "    y_pred = model.predict(X_test)\n",
    "    np.save('data/y_pred.npy', y_pred)\n",
    "\n",
    "    print(\"\\n---- Predicted classes ----\")\n",
    "    print(\"\\n\")\n",
    "    print(y_pred)\n"
   ]
  },
  {
   "cell_type": "code",
   "execution_count": 38,
   "id": "7c175c99",
   "metadata": {},
   "outputs": [],
   "source": [
    "create_step_predict_on_test_data = kfp.components.create_component_from_func(\n",
    "    func=predict_on_test_data,\n",
    "    base_image='python:3.7',\n",
    "    packages_to_install=['pandas','numpy','scikit-learn']\n",
    ")"
   ]
  },
  {
   "cell_type": "code",
   "execution_count": 39,
   "id": "3d8a9934",
   "metadata": {},
   "outputs": [],
   "source": [
    "def predict_prob_on_test_data():\n",
    "    import pandas as pd\n",
    "    import numpy as np\n",
    "    import sklearn\n",
    "    \n",
    "    import pickle\n",
    "    print(\"---- Inside predict_prob_on_test_data component ----\")\n",
    "    with open(f'data/model.pkl','rb') as f:\n",
    "        model = pickle.load(f)\n",
    "        \n",
    "    X_test = np.load(f'data/X_test.npy',allow_pickle=True)\n",
    "    y_pred_prob = model.predict_proba(X_test)\n",
    "    np.save(f'data/y_pred_prob.npy', y_pred_prob)\n",
    "    \n",
    "    print(\"\\n---- Predicted Probabilities ----\")\n",
    "    print(\"\\n\")\n",
    "    print(y_pred_prob)\n",
    "    \n",
    "\n"
   ]
  },
  {
   "cell_type": "code",
   "execution_count": 22,
   "id": "3d9eef47",
   "metadata": {},
   "outputs": [],
   "source": [
    "create_step_predict_prob_on_test_data = kfp.components.create_component_from_func(\n",
    "    func=predict_prob_on_test_data,\n",
    "    base_image='python:3.7',\n",
    "    packages_to_install=['pandas','numpy','scikit-learn']\n",
    ")"
   ]
  },
  {
   "cell_type": "code",
   "execution_count": 23,
   "id": "a69526a0",
   "metadata": {},
   "outputs": [],
   "source": [
    "def get_metrics():\n",
    "    import mlflow\n",
    "    from sklearn.metrics import accuracy_score, precision_score, recall_score, log_loss\n",
    "    import pandas as pd\n",
    "    import numpy as np\n",
    "    from sklearn import metrics\n",
    "    #mlflow.set_tracking_uri(\"http://localhost:5000\")\n",
    "\n",
    "    \n",
    "    y_true = np.load(f'data/y_test.npy', allow_pickle=True)\n",
    "    y_pred = np.load(f'data/y_pred.npy', allow_pickle=True)\n",
    "    y_pred_prob = np.load(f'data/y_pred_prob.npy', allow_pickle=True)\n",
    "\n",
    "    acc = accuracy_score(y_true, y_pred)\n",
    "    prec = precision_score(y_true, y_pred)\n",
    "    recall = recall_score(y_true, y_pred)\n",
    "    entropy = log_loss(y_true, y_pred_prob)\n",
    "\n",
    "    metrics_dict = {'accuracy': round(acc, 2), 'precision': round(prec, 2), 'recall': round(recall, 2), 'entropy': round(entropy, 2)}\n",
    "    print(\"\\n Model Metrics:\", metrics_dict)"
   ]
  },
  {
   "cell_type": "code",
   "execution_count": 24,
   "id": "6f14f15a",
   "metadata": {},
   "outputs": [],
   "source": [
    "create_step_get_metrics = kfp.components.create_component_from_func(\n",
    "    func=get_metrics,\n",
    "    base_image='python:3.7',\n",
    "    packages_to_install=['pandas','numpy','scikit-learn','mlflow']\n",
    ")"
   ]
  },
  {
   "cell_type": "code",
   "execution_count": 27,
   "id": "a97ab0c4",
   "metadata": {},
   "outputs": [],
   "source": [
    " \n",
    "@dsl.pipeline(\n",
    "   name='Banking Term Deposit classifier pipeline with kuberflow',\n",
    "   description='A sample pipeline that performs Ramdom Classifer classifier task'\n",
    ")\n",
    "# Define parameters to be fed into pipeline\n",
    "def banking_classifier_pipeline(data_path: str):\n",
    "    vop = dsl.VolumeOp(\n",
    "    name=\"t-vol\",\n",
    "    resource_name=\"t-vol\", \n",
    "    size=\"1Gi\", \n",
    "    modes=dsl.VOLUME_MODE_RWO)\n",
    "    \n",
    "    # Here we are creating persistent volume, with name, size as 1GB and read_write once operation as mode\n",
    "    \n",
    "    # Now we will bind all the components\n",
    "    \n",
    "    prepare_data_cleaning_task = create_step_load_and_clean_data().add_pvolumes({data_path: vop.volume})\n",
    "    \n",
    "    preprocessing_task = create_step_prprocessing().add_pvolumes({data_path: vop.volume}).after(prepare_data_cleaning_task)\n",
    "    \n",
    "    \n",
    "    train_test_split = create_step_train_test_split().add_pvolumes({data_path: vop.volume}).after(preprocessing_task)\n",
    "    \n",
    "    classifier_training = create_step_training_basic_classifier().add_pvolumes({data_path: vop.volume}).after(train_test_split)\n",
    "    \n",
    "    log_predicted_class = create_step_predict_on_test_data().add_pvolumes({data_path: vop.volume}).after(classifier_training)\n",
    "    \n",
    "    log_predicted_probabilities = create_step_predict_prob_on_test_data().add_pvolumes({data_path: vop.volume}).after(log_predicted_class)\n",
    "    \n",
    "    log_metrics_task = create_step_get_metrics().add_pvolumes({data_path: vop.volume}).after(log_predicted_probabilities)\n",
    "\n",
    "    # disabling cache and getting outputs of fresh runs\n",
    "    \n",
    "    prepare_data_cleaning_task.execution_options.caching_strategy.max_cache_staleness = \"P0D\"\n",
    "    preprocessing_task.execution_options.caching_strategy.max_cache_staleness = \"P0D\"\n",
    "    train_test_split.execution_options.caching_strategy.max_cache_staleness = \"P0D\"\n",
    "   # oversampling_data.execution_options.caching_strategy.max_cache_staleness = \"P0D\"\n",
    "    classifier_training.execution_options.caching_strategy.max_cache_staleness = \"P0D\"\n",
    "    log_predicted_class.execution_options.caching_strategy.max_cache_staleness = \"P0D\"\n",
    "    log_predicted_probabilities.execution_options.caching_strategy.max_cache_staleness = \"P0D\"\n",
    "    log_metrics_task.execution_options.caching_strategy.max_cache_staleness = \"P0D\"\n",
    "    "
   ]
  },
  {
   "cell_type": "code",
   "execution_count": 28,
   "id": "4fa1e37c",
   "metadata": {},
   "outputs": [],
   "source": [
    "kfp.compiler.Compiler().compile(\n",
    "    pipeline_func=banking_classifier_pipeline,\n",
    "    package_path='kuberflow_mlflow_mixed.yaml')"
   ]
  },
  {
   "cell_type": "code",
   "execution_count": 29,
   "id": "c07df9f9",
   "metadata": {},
   "outputs": [],
   "source": [
    "client = kfp.Client()"
   ]
  },
  {
   "cell_type": "code",
   "execution_count": 30,
   "id": "34bf894e",
   "metadata": {},
   "outputs": [
    {
     "name": "stdout",
     "output_type": "stream",
     "text": [
      "2023-07-21\n"
     ]
    },
    {
     "data": {
      "text/html": [
       "<a href=\"/pipeline/#/experiments/details/15ccf1ce-53b2-45c4-967b-2cc427c76aed\" target=\"_blank\" >Experiment details</a>."
      ],
      "text/plain": [
       "<IPython.core.display.HTML object>"
      ]
     },
     "metadata": {},
     "output_type": "display_data"
    },
    {
     "data": {
      "text/html": [
       "<a href=\"/pipeline/#/runs/details/e7c6deab-1219-41a5-9e72-c4d8d41b1617\" target=\"_blank\" >Run details</a>."
      ],
      "text/plain": [
       "<IPython.core.display.HTML object>"
      ]
     },
     "metadata": {},
     "output_type": "display_data"
    }
   ],
   "source": [
    "DATA_PATH = '/data'\n",
    "\n",
    "import datetime\n",
    "print(datetime.datetime.now().date())\n",
    "\n",
    "\n",
    "pipeline_func = banking_classifier_pipeline\n",
    "experiment_name = 'banking_classifier_exp' +\"_\"+ str(datetime.datetime.now().date())\n",
    "run_name = pipeline_func.__name__ + ' run'\n",
    "namespace = \"kubeflow\"\n",
    "\n",
    "arguments = {\"data_path\":DATA_PATH}\n",
    "\n",
    "kfp.compiler.Compiler().compile(pipeline_func,  \n",
    "  '{}.zip'.format(experiment_name))\n",
    "\n",
    "run_result = client.create_run_from_pipeline_func(pipeline_func, \n",
    "                                                  experiment_name=experiment_name, \n",
    "                                                  run_name=run_name, \n",
    "                                                  arguments=arguments)"
   ]
  },
  {
   "cell_type": "code",
   "execution_count": null,
   "id": "8fcf64d6",
   "metadata": {},
   "outputs": [],
   "source": []
  },
  {
   "cell_type": "code",
   "execution_count": null,
   "id": "efab11e3",
   "metadata": {},
   "outputs": [],
   "source": []
  },
  {
   "cell_type": "code",
   "execution_count": null,
   "id": "2162c773",
   "metadata": {},
   "outputs": [],
   "source": []
  }
 ],
 "metadata": {
  "kernelspec": {
   "display_name": "mlops",
   "language": "python",
   "name": "mlops"
  },
  "language_info": {
   "codemirror_mode": {
    "name": "ipython",
    "version": 3
   },
   "file_extension": ".py",
   "mimetype": "text/x-python",
   "name": "python",
   "nbconvert_exporter": "python",
   "pygments_lexer": "ipython3",
   "version": "3.9.0"
  }
 },
 "nbformat": 4,
 "nbformat_minor": 5
}
