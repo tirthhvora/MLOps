{
 "cells": [
  {
   "cell_type": "code",
   "execution_count": 43,
   "id": "ea8bb59e",
   "metadata": {},
   "outputs": [],
   "source": [
    "import mlflow\n",
    "import kfp\n",
    "import kfp.components as comp\n",
    "import requests\n",
    "import kfp.dsl as dsl\n",
    "import sys"
   ]
  },
  {
   "cell_type": "code",
   "execution_count": 44,
   "id": "c9658665",
   "metadata": {},
   "outputs": [
    {
     "data": {
      "text/plain": [
       "'C:\\\\Users\\\\hp India\\\\anaconda3\\\\envs\\\\mlops\\\\python.exe'"
      ]
     },
     "execution_count": 44,
     "metadata": {},
     "output_type": "execute_result"
    }
   ],
   "source": [
    "sys.executable"
   ]
  },
  {
   "cell_type": "code",
   "execution_count": null,
   "id": "15f840ed",
   "metadata": {},
   "outputs": [],
   "source": [
    "\n"
   ]
  },
  {
   "cell_type": "markdown",
   "id": "e2eae841",
   "metadata": {},
   "source": [
    "## Functions and components"
   ]
  },
  {
   "cell_type": "code",
   "execution_count": 45,
   "id": "02f3df08",
   "metadata": {},
   "outputs": [],
   "source": [
    "def load_and_clean_data():\n",
    "    \n",
    "    import pandas as pd\n",
    "    import numpy as np\n",
    "    \n",
    "    data = pd.read_csv(\"https://raw.githubusercontent.com/TripathiAshutosh/dataset/main/banking.csv\")\n",
    "    \n",
    "    print(\"Null/missingalues available in the data: \\n\")\n",
    "    print(data.isna().sum())\n",
    "    data = data.dropna()\n",
    "    print(\"The data after dropping the na values are: \\n\")\n",
    "    print(data.isna().sum())\n",
    "    \n",
    "    data.to_csv(f'data/initial_data.csv', index = False)\n",
    "    print(\"--------data imported and cleaned----------\")"
   ]
  },
  {
   "cell_type": "code",
   "execution_count": 46,
   "id": "ade71b5f",
   "metadata": {},
   "outputs": [],
   "source": [
    "create_step_load_and_clean_data = kfp.components.create_component_from_func(\n",
    "    func=load_and_clean_data,\n",
    "    base_image='python:3.7',\n",
    "    packages_to_install=['pandas','numpy']\n",
    ")"
   ]
  },
  {
   "cell_type": "code",
   "execution_count": 47,
   "id": "dd8a8942",
   "metadata": {},
   "outputs": [],
   "source": [
    "def preprocessing():\n",
    "    \n",
    "    import pandas as pd\n",
    "    import numpy as np\n",
    "    \n",
    "    data = pd.read_csv(f'data/initial_data.csv')\n",
    "    \n",
    "    data['education'] = np.where(data['education'] == 'basic.9y', 'Basic', data['education'])\n",
    "    data['education'] = np.where(data['education'] == 'basic.6y', 'Basic', data['education'])\n",
    "    data['education'] = np.where(data['education'] == 'basic.4y', 'Basic', data['education'])\n",
    "    \n",
    "    categorical_vars = ['job','marital','education', 'default', 'housing', 'loan', 'contact', 'month', 'day_of_week', 'poutcome']\n",
    "    for var in categorical_vars:\n",
    "        cat_list = 'var' + '_' + var\n",
    "        cat_list = pd.get_dummies(data[var], prefix = var) # one hot encoding\n",
    "        data_new = data.join(cat_list)\n",
    "        data = data_new\n",
    "    \n",
    "    categorical_vars = ['job','marital','education', 'default', 'housing', 'loan', 'contact', 'month', 'day_of_week', 'poutcome']\n",
    "    \n",
    "    data_vars = data.columns.values.tolist()\n",
    "    \n",
    "    keeping = [i for i in data_vars if i not in categorical_vars]\n",
    "    \n",
    "    final_df = data[keeping]\n",
    "    \n",
    "    final_df.columns = final_df.columns.str.replace(\".\", \"_\")\n",
    "    final_df.columns = final_df.columns.str.replace(\" \", \"_\")\n",
    "    \n",
    "    print(final_df.head())\n",
    "    \n",
    "    final_df.to_csv(f'data/preprocessed_df.csv', index = False)\n",
    "    print(\"Education column pre-processed, categorical variables one-hot encoded. Ready to input data to model\")\n",
    "    \n"
   ]
  },
  {
   "cell_type": "code",
   "execution_count": 48,
   "id": "64088762",
   "metadata": {},
   "outputs": [],
   "source": [
    "create_step_prprocessing = kfp.components.create_component_from_func(\n",
    "    func=preprocessing,\n",
    "    base_image='python:3.7',\n",
    "    packages_to_install=['pandas','numpy']\n",
    ")"
   ]
  },
  {
   "cell_type": "code",
   "execution_count": 49,
   "id": "457923c2",
   "metadata": {},
   "outputs": [],
   "source": [
    "def train_test_split():\n",
    "    import pandas as pd\n",
    "    import numpy as np\n",
    "    from sklearn.model_selection import train_test_split\n",
    "    \n",
    "    final_df = pd.read_csv(f'data/preprocessed_df.csv')\n",
    "    \n",
    "    X = final_df.loc[:, final_df.columns != 'y']\n",
    "    y = final_df.loc[:, final_df.columns == 'y']\n",
    "    \n",
    "    X_train, X_test, y_train, y_test = train_test_split(X, y, test_size = 0.3, stratify = y, random_state = 47)\n",
    "    \n",
    "    np.save(f'data/X_train.npy', X_train) # saved as a numpy binary file (efficient to save and load)\n",
    "    np.save(f'data/X_test.npy', X_test)\n",
    "    np.save(f'data/y_train.npy', y_train)\n",
    "    np.save(f'data/y_test.npy', y_test)\n",
    "    \n",
    "    print(\"\\n---- X_train ----\")\n",
    "    print(\"\\n\")\n",
    "    print(X_train.head())\n",
    "    \n",
    "    print(\"\\n---- X_test ----\")\n",
    "    print(\"\\n\")\n",
    "    print(X_test.head())\n",
    "    \n",
    "    print(\"\\n---- y_test ----\")\n",
    "    print(\"\\n\")\n",
    "    print(y_test.head())"
   ]
  },
  {
   "cell_type": "code",
   "execution_count": 50,
   "id": "6d4b0e3a",
   "metadata": {},
   "outputs": [],
   "source": [
    "create_step_train_test_split = kfp.components.create_component_from_func(\n",
    "    func=train_test_split,\n",
    "    base_image='python:3.7',\n",
    "    packages_to_install=['pandas','numpy','scikit-learn']\n",
    ")"
   ]
  },
  {
   "cell_type": "code",
   "execution_count": 51,
   "id": "c0092c27",
   "metadata": {},
   "outputs": [],
   "source": [
    "def training_basic_classifier():\n",
    "    #import mlflow\n",
    "    from sklearn.ensemble import RandomForestClassifier\n",
    "    import pandas as pd\n",
    "    import numpy as np\n",
    "    import pickle\n",
    "    \n",
    "    X_train = np.load(f'data/X_train.npy', allow_pickle=True)\n",
    "    y_train = np.load(f'data/y_train.npy', allow_pickle=True)\n",
    "    \n",
    "    model = RandomForestClassifier(n_estimators=150)\n",
    "    model.fit(X_train, y_train)\n",
    "    \n",
    "\n",
    "  \n",
    "    with open(f'data/model.pkl', 'wb') as f:\n",
    "            pickle.dump(model, f)\n",
    "        \n",
    "    print(\"\\nRandomForest classifier is trained on banking data and saved to PV location /data/model.pkl ----\")\n"
   ]
  },
  {
   "cell_type": "code",
   "execution_count": 52,
   "id": "23891571",
   "metadata": {},
   "outputs": [],
   "source": [
    "create_step_training_basic_classifier = kfp.components.create_component_from_func(\n",
    "    func=training_basic_classifier,\n",
    "    base_image='python:3.7',\n",
    "    packages_to_install=['pandas','numpy','scikit-learn'] #'mlflow'\n",
    ")"
   ]
  },
  {
   "cell_type": "code",
   "execution_count": 53,
   "id": "81c74281",
   "metadata": {},
   "outputs": [],
   "source": [
    "def log_mlflow():\n",
    "    import mlflow\n",
    "    import pickle\n",
    "    import sklearn\n",
    "    import pandas \n",
    "    import numpy\n",
    "    with open('data/model.pkl', 'rb') as f:\n",
    "        model = pickle.load(f)\n",
    "    mlflow.set_tracking_uri(\"http://127.0.0.1:52111\")\n",
    "    with mlflow.start_run():\n",
    "        mlflow.sklearn.log_model(model, \"model\")\n",
    "        \n",
    "    "
   ]
  },
  {
   "cell_type": "code",
   "execution_count": 54,
   "id": "152770c2",
   "metadata": {},
   "outputs": [],
   "source": [
    "create_step_mlflow_logging= kfp.components.create_component_from_func(\n",
    "    func=log_mlflow,\n",
    "    base_image='python:3.7',\n",
    "    packages_to_install=['pandas','numpy','scikit-learn','mlflow']\n",
    ")"
   ]
  },
  {
   "cell_type": "code",
   "execution_count": 55,
   "id": "4629a5b3",
   "metadata": {},
   "outputs": [],
   "source": [
    "def predict_on_test_data():\n",
    "    import pandas as pd\n",
    "    import numpy as np\n",
    "    import sklearn\n",
    "    import pickle\n",
    "    print(\"---- Inside predict_on_test_data component ----\")\n",
    "    with open('data/model.pkl', 'rb') as f:\n",
    "        model = pickle.load(f)\n",
    "\n",
    "    X_test = np.load('data/X_test.npy', allow_pickle=True)\n",
    "    y_pred = model.predict(X_test)\n",
    "    np.save('data/y_pred.npy', y_pred)\n",
    "\n",
    "    print(\"\\n---- Predicted classes ----\")\n",
    "    print(\"\\n\")\n",
    "    print(y_pred)\n"
   ]
  },
  {
   "cell_type": "code",
   "execution_count": 56,
   "id": "7c175c99",
   "metadata": {},
   "outputs": [],
   "source": [
    "create_step_predict_on_test_data = kfp.components.create_component_from_func(\n",
    "    func=predict_on_test_data,\n",
    "    base_image='python:3.7',\n",
    "    packages_to_install=['pandas','numpy','scikit-learn']\n",
    ")"
   ]
  },
  {
   "cell_type": "code",
   "execution_count": 57,
   "id": "3d8a9934",
   "metadata": {},
   "outputs": [
    {
     "data": {
      "text/plain": [
       "'\\n\\ndef predict_prob_on_test_data():\\n    import pandas as pd\\n    import numpy as np\\n    import sklearn\\n    \\n    import pickle\\n    print(\"---- Inside predict_prob_on_test_data component ----\")\\n    with open(f\\'data/model.pkl\\',\\'rb\\') as f:\\n        model = pickle.load(f)\\n        \\n    X_test = np.load(f\\'data/X_test.npy\\',allow_pickle=True)\\n    y_pred_prob = model.predict_proba(X_test)\\n    np.save(f\\'data/y_pred_prob.npy\\', y_pred_prob)\\n    \\n    print(\"\\n---- Predicted Probabilities ----\")\\n    print(\"\\n\")\\n    print(y_pred_prob)\\n    \\n    \\n    create_step_predict_prob_on_test_data = kfp.components.create_component_from_func(\\n    func=predict_prob_on_test_data,\\n    base_image=\\'python:3.7\\',\\n    packages_to_install=[\\'pandas\\',\\'numpy\\',\\'scikit-learn\\']\\n)\\n   \\n'"
      ]
     },
     "execution_count": 57,
     "metadata": {},
     "output_type": "execute_result"
    }
   ],
   "source": [
    "\n",
    "\"\"\"\n",
    "\n",
    "def predict_prob_on_test_data():\n",
    "    import pandas as pd\n",
    "    import numpy as np\n",
    "    import sklearn\n",
    "    \n",
    "    import pickle\n",
    "    print(\"---- Inside predict_prob_on_test_data component ----\")\n",
    "    with open(f'data/model.pkl','rb') as f:\n",
    "        model = pickle.load(f)\n",
    "        \n",
    "    X_test = np.load(f'data/X_test.npy',allow_pickle=True)\n",
    "    y_pred_prob = model.predict_proba(X_test)\n",
    "    np.save(f'data/y_pred_prob.npy', y_pred_prob)\n",
    "    \n",
    "    print(\"\\n---- Predicted Probabilities ----\")\n",
    "    print(\"\\n\")\n",
    "    print(y_pred_prob)\n",
    "    \n",
    "    \n",
    "    create_step_predict_prob_on_test_data = kfp.components.create_component_from_func(\n",
    "    func=predict_prob_on_test_data,\n",
    "    base_image='python:3.7',\n",
    "    packages_to_install=['pandas','numpy','scikit-learn']\n",
    ")\n",
    "   \n",
    "\"\"\" \n",
    "\n"
   ]
  },
  {
   "cell_type": "code",
   "execution_count": 58,
   "id": "3d9eef47",
   "metadata": {},
   "outputs": [
    {
     "data": {
      "text/plain": [
       "'\\ndef get_metrics():\\n    import mlflow\\n    from sklearn.metrics import accuracy_score, precision_score, recall_score, log_loss\\n    import pandas as pd\\n    import numpy as np\\n    from sklearn import metrics\\n    mlflow.set_tracking_uri(\"http://localhost:5000\")\\n\\n    \\n    y_true = np.load(f\\'data/y_test.npy\\', allow_pickle=True)\\n    y_pred = np.load(f\\'data/y_pred.npy\\', allow_pickle=True)\\n    y_pred_prob = np.load(f\\'data/y_pred_prob.npy\\', allow_pickle=True)\\n\\n    acc = accuracy_score(y_true, y_pred)\\n    prec = precision_score(y_true, y_pred)\\n    recall = recall_score(y_true, y_pred)\\n    entropy = log_loss(y_true, y_pred_prob)\\n\\n    metrics_dict = {\\'accuracy\\': round(acc, 2), \\'precision\\': round(prec, 2), \\'recall\\': round(recall, 2), \\'entropy\\': round(entropy, 2)}\\n    print(\"\\n Model Metrics:\", metrics_dict)\\n    \\n    create_step_get_metrics = kfp.components.create_component_from_func(\\n    func=get_metrics,\\n    base_image=\\'python:3.7\\',\\n    packages_to_install=[\\'pandas\\',\\'numpy\\',\\'scikit-learn\\',\\'mlflow\\']\\n)\\n    '"
      ]
     },
     "execution_count": 58,
     "metadata": {},
     "output_type": "execute_result"
    }
   ],
   "source": [
    "\"\"\"\n",
    "def get_metrics():\n",
    "    import mlflow\n",
    "    from sklearn.metrics import accuracy_score, precision_score, recall_score, log_loss\n",
    "    import pandas as pd\n",
    "    import numpy as np\n",
    "    from sklearn import metrics\n",
    "    mlflow.set_tracking_uri(\"http://localhost:5000\")\n",
    "\n",
    "    \n",
    "    y_true = np.load(f'data/y_test.npy', allow_pickle=True)\n",
    "    y_pred = np.load(f'data/y_pred.npy', allow_pickle=True)\n",
    "    y_pred_prob = np.load(f'data/y_pred_prob.npy', allow_pickle=True)\n",
    "\n",
    "    acc = accuracy_score(y_true, y_pred)\n",
    "    prec = precision_score(y_true, y_pred)\n",
    "    recall = recall_score(y_true, y_pred)\n",
    "    entropy = log_loss(y_true, y_pred_prob)\n",
    "\n",
    "    metrics_dict = {'accuracy': round(acc, 2), 'precision': round(prec, 2), 'recall': round(recall, 2), 'entropy': round(entropy, 2)}\n",
    "    print(\"\\n Model Metrics:\", metrics_dict)\n",
    "    \n",
    "    create_step_get_metrics = kfp.components.create_component_from_func(\n",
    "    func=get_metrics,\n",
    "    base_image='python:3.7',\n",
    "    packages_to_install=['pandas','numpy','scikit-learn','mlflow']\n",
    ")\n",
    "    \"\"\""
   ]
  },
  {
   "cell_type": "code",
   "execution_count": null,
   "id": "a69526a0",
   "metadata": {},
   "outputs": [],
   "source": []
  },
  {
   "cell_type": "code",
   "execution_count": null,
   "id": "6f14f15a",
   "metadata": {},
   "outputs": [],
   "source": []
  },
  {
   "cell_type": "code",
   "execution_count": 59,
   "id": "a97ab0c4",
   "metadata": {},
   "outputs": [],
   "source": [
    " \n",
    "@dsl.pipeline(\n",
    "   name='Banking Term Deposit classifier pipeline with kuberflow',\n",
    "   description='A sample pipeline that performs Ramdom Classifer classifier task'\n",
    ")\n",
    "# Define parameters to be fed into pipeline\n",
    "def banking_classifier_pipeline(data_path: str):\n",
    "    vop = dsl.VolumeOp(\n",
    "    name=\"t-vol\",\n",
    "    resource_name=\"t-vol\", \n",
    "    size=\"1Gi\", \n",
    "    modes=dsl.VOLUME_MODE_RWO)\n",
    "    \n",
    "    # Here we are creating persistent volume, with name, size as 1GB and read_write once operation as mode\n",
    "    \n",
    "    # Now we will bind all the components\n",
    "    \n",
    "    prepare_data_cleaning_task = create_step_load_and_clean_data().add_pvolumes({data_path: vop.volume})\n",
    "    \n",
    "    preprocessing_task = create_step_prprocessing().add_pvolumes({data_path: vop.volume}).after(prepare_data_cleaning_task)\n",
    "    \n",
    "    \n",
    "    train_test_split = create_step_train_test_split().add_pvolumes({data_path: vop.volume}).after(preprocessing_task)\n",
    "    \n",
    "    classifier_training = create_step_training_basic_classifier().add_pvolumes({data_path: vop.volume}).after(train_test_split)\n",
    "    \n",
    "    mlflow_log = create_step_mlflow_logging().add_pvolumes({data_path: vop.volume}).after(classifier_training)\n",
    "    \n",
    "    log_predicted_class = create_step_predict_on_test_data().add_pvolumes({data_path: vop.volume}).after(mlflow_log)\n",
    "    \n",
    "    #log_predicted_probabilities = create_step_predict_prob_on_test_data().add_pvolumes({data_path: vop.volume}).after(log_predicted_class)\n",
    "    \n",
    "    #log_metrics_task = create_step_get_metrics().add_pvolumes({data_path: vop.volume}).after(log_predicted_probabilities)\n",
    "\n",
    "    # disabling cache and getting outputs of fresh runs\n",
    "    \n",
    "    prepare_data_cleaning_task.execution_options.caching_strategy.max_cache_staleness = \"P0D\"\n",
    "    preprocessing_task.execution_options.caching_strategy.max_cache_staleness = \"P0D\"\n",
    "    train_test_split.execution_options.caching_strategy.max_cache_staleness = \"P0D\"\n",
    "   # oversampling_data.execution_options.caching_strategy.max_cache_staleness = \"P0D\"\n",
    "    classifier_training.execution_options.caching_strategy.max_cache_staleness = \"P0D\"\n",
    "    log_predicted_class.execution_options.caching_strategy.max_cache_staleness = \"P0D\"\n",
    "   # log_predicted_probabilities.execution_options.caching_strategy.max_cache_staleness = \"P0D\"\n",
    "   # log_metrics_task.execution_options.caching_strategy.max_cache_staleness = \"P0D\"\n",
    "    "
   ]
  },
  {
   "cell_type": "code",
   "execution_count": 60,
   "id": "4fa1e37c",
   "metadata": {},
   "outputs": [],
   "source": [
    "kfp.compiler.Compiler().compile(\n",
    "    pipeline_func=banking_classifier_pipeline,\n",
    "    package_path='kuberflow_mlflow_mixed.yaml')"
   ]
  },
  {
   "cell_type": "code",
   "execution_count": 61,
   "id": "c07df9f9",
   "metadata": {},
   "outputs": [],
   "source": [
    "client = kfp.Client()"
   ]
  },
  {
   "cell_type": "code",
   "execution_count": 62,
   "id": "34bf894e",
   "metadata": {},
   "outputs": [
    {
     "name": "stdout",
     "output_type": "stream",
     "text": [
      "2023-07-25\n"
     ]
    },
    {
     "data": {
      "text/html": [
       "<a href=\"/pipeline/#/experiments/details/c63124f5-eb67-401d-b0f8-b3b828965342\" target=\"_blank\" >Experiment details</a>."
      ],
      "text/plain": [
       "<IPython.core.display.HTML object>"
      ]
     },
     "metadata": {},
     "output_type": "display_data"
    },
    {
     "data": {
      "text/html": [
       "<a href=\"/pipeline/#/runs/details/01ac6e62-dfc2-40d1-9957-7ac13b0e08be\" target=\"_blank\" >Run details</a>."
      ],
      "text/plain": [
       "<IPython.core.display.HTML object>"
      ]
     },
     "metadata": {},
     "output_type": "display_data"
    }
   ],
   "source": [
    "DATA_PATH = '/data'\n",
    "\n",
    "import datetime\n",
    "print(datetime.datetime.now().date())\n",
    "\n",
    "\n",
    "pipeline_func = banking_classifier_pipeline\n",
    "experiment_name = 'banking_classifier_exp' +\"_\"+ str(datetime.datetime.now().date())\n",
    "run_name = pipeline_func.__name__ + ' run'\n",
    "namespace = \"kubeflow\"\n",
    "\n",
    "arguments = {\"data_path\":DATA_PATH}\n",
    "\n",
    "kfp.compiler.Compiler().compile(pipeline_func,  \n",
    "  '{}.zip'.format(experiment_name))\n",
    "\n",
    "run_result = client.create_run_from_pipeline_func(pipeline_func, \n",
    "                                                  experiment_name=experiment_name, \n",
    "                                                  run_name=run_name, \n",
    "                                                  arguments=arguments)"
   ]
  },
  {
   "cell_type": "code",
   "execution_count": 63,
   "id": "8fcf64d6",
   "metadata": {},
   "outputs": [
    {
     "ename": "FileNotFoundError",
     "evalue": "[Errno 2] No such file or directory: 'data/model.pkl'",
     "output_type": "error",
     "traceback": [
      "\u001b[1;31m---------------------------------------------------------------------------\u001b[0m",
      "\u001b[1;31mFileNotFoundError\u001b[0m                         Traceback (most recent call last)",
      "Cell \u001b[1;32mIn[63], line 3\u001b[0m\n\u001b[0;32m      1\u001b[0m \u001b[38;5;28;01mimport\u001b[39;00m \u001b[38;5;21;01mmlflow\u001b[39;00m\n\u001b[0;32m      2\u001b[0m \u001b[38;5;28;01mimport\u001b[39;00m \u001b[38;5;21;01mpickle\u001b[39;00m\n\u001b[1;32m----> 3\u001b[0m \u001b[38;5;28;01mwith\u001b[39;00m \u001b[38;5;28;43mopen\u001b[39;49m\u001b[43m(\u001b[49m\u001b[38;5;124;43m'\u001b[39;49m\u001b[38;5;124;43mdata/model.pkl\u001b[39;49m\u001b[38;5;124;43m'\u001b[39;49m\u001b[43m,\u001b[49m\u001b[43m \u001b[49m\u001b[38;5;124;43m'\u001b[39;49m\u001b[38;5;124;43mrb\u001b[39;49m\u001b[38;5;124;43m'\u001b[39;49m\u001b[43m)\u001b[49m \u001b[38;5;28;01mas\u001b[39;00m f:\n\u001b[0;32m      4\u001b[0m         model \u001b[38;5;241m=\u001b[39m pickle\u001b[38;5;241m.\u001b[39mload(f)\n",
      "File \u001b[1;32m~\\anaconda3\\envs\\mlops\\lib\\site-packages\\IPython\\core\\interactiveshell.py:284\u001b[0m, in \u001b[0;36m_modified_open\u001b[1;34m(file, *args, **kwargs)\u001b[0m\n\u001b[0;32m    277\u001b[0m \u001b[38;5;28;01mif\u001b[39;00m file \u001b[38;5;129;01min\u001b[39;00m {\u001b[38;5;241m0\u001b[39m, \u001b[38;5;241m1\u001b[39m, \u001b[38;5;241m2\u001b[39m}:\n\u001b[0;32m    278\u001b[0m     \u001b[38;5;28;01mraise\u001b[39;00m \u001b[38;5;167;01mValueError\u001b[39;00m(\n\u001b[0;32m    279\u001b[0m         \u001b[38;5;124mf\u001b[39m\u001b[38;5;124m\"\u001b[39m\u001b[38;5;124mIPython won\u001b[39m\u001b[38;5;124m'\u001b[39m\u001b[38;5;124mt let you open fd=\u001b[39m\u001b[38;5;132;01m{\u001b[39;00mfile\u001b[38;5;132;01m}\u001b[39;00m\u001b[38;5;124m by default \u001b[39m\u001b[38;5;124m\"\u001b[39m\n\u001b[0;32m    280\u001b[0m         \u001b[38;5;124m\"\u001b[39m\u001b[38;5;124mas it is likely to crash IPython. If you know what you are doing, \u001b[39m\u001b[38;5;124m\"\u001b[39m\n\u001b[0;32m    281\u001b[0m         \u001b[38;5;124m\"\u001b[39m\u001b[38;5;124myou can use builtins\u001b[39m\u001b[38;5;124m'\u001b[39m\u001b[38;5;124m open.\u001b[39m\u001b[38;5;124m\"\u001b[39m\n\u001b[0;32m    282\u001b[0m     )\n\u001b[1;32m--> 284\u001b[0m \u001b[38;5;28;01mreturn\u001b[39;00m io_open(file, \u001b[38;5;241m*\u001b[39margs, \u001b[38;5;241m*\u001b[39m\u001b[38;5;241m*\u001b[39mkwargs)\n",
      "\u001b[1;31mFileNotFoundError\u001b[0m: [Errno 2] No such file or directory: 'data/model.pkl'"
     ]
    }
   ],
   "source": [
    "import mlflow\n",
    "import pickle\n",
    "with open('data/model.pkl', 'rb') as f:\n",
    "        model = pickle.load(f)\n"
   ]
  },
  {
   "cell_type": "code",
   "execution_count": null,
   "id": "efab11e3",
   "metadata": {},
   "outputs": [],
   "source": []
  },
  {
   "cell_type": "code",
   "execution_count": null,
   "id": "2162c773",
   "metadata": {},
   "outputs": [],
   "source": []
  },
  {
   "cell_type": "code",
   "execution_count": null,
   "id": "aff40da4",
   "metadata": {},
   "outputs": [],
   "source": []
  },
  {
   "cell_type": "code",
   "execution_count": null,
   "id": "d6299cf7",
   "metadata": {},
   "outputs": [],
   "source": []
  },
  {
   "cell_type": "code",
   "execution_count": null,
   "id": "6c4aca83",
   "metadata": {},
   "outputs": [],
   "source": []
  },
  {
   "cell_type": "code",
   "execution_count": null,
   "id": "c3615e20",
   "metadata": {},
   "outputs": [],
   "source": []
  },
  {
   "cell_type": "code",
   "execution_count": null,
   "id": "62420bca",
   "metadata": {},
   "outputs": [],
   "source": []
  },
  {
   "cell_type": "code",
   "execution_count": null,
   "id": "75a05ae9",
   "metadata": {},
   "outputs": [],
   "source": []
  },
  {
   "cell_type": "code",
   "execution_count": null,
   "id": "1a65b81f",
   "metadata": {},
   "outputs": [],
   "source": []
  },
  {
   "cell_type": "code",
   "execution_count": null,
   "id": "bc19a170",
   "metadata": {},
   "outputs": [],
   "source": []
  },
  {
   "cell_type": "code",
   "execution_count": null,
   "id": "cac2d5f9",
   "metadata": {},
   "outputs": [],
   "source": []
  },
  {
   "cell_type": "code",
   "execution_count": null,
   "id": "36a11898",
   "metadata": {},
   "outputs": [],
   "source": []
  },
  {
   "cell_type": "code",
   "execution_count": null,
   "id": "14544f7f",
   "metadata": {},
   "outputs": [],
   "source": []
  }
 ],
 "metadata": {
  "kernelspec": {
   "display_name": "mlops",
   "language": "python",
   "name": "mlops"
  },
  "language_info": {
   "codemirror_mode": {
    "name": "ipython",
    "version": 3
   },
   "file_extension": ".py",
   "mimetype": "text/x-python",
   "name": "python",
   "nbconvert_exporter": "python",
   "pygments_lexer": "ipython3",
   "version": "3.9.0"
  }
 },
 "nbformat": 4,
 "nbformat_minor": 5
}
